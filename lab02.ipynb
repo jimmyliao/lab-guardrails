{
 "cells": [
  {
   "cell_type": "markdown",
   "metadata": {},
   "source": [
    "## Lab 02: Integration with LangChain\n",
    "\n",
    "### We can use Actions to integrate LangChain.\n"
   ]
  },
  {
   "cell_type": "code",
   "execution_count": 1,
   "metadata": {},
   "outputs": [],
   "source": [
    "## setup OPENAI_API_KEY\n",
    "\n",
    "import os\n",
    "from pprint import pp\n",
    "import getpass\n",
    "\n",
    "if 'OPENAI_API_KEY' not in os.environ:\n",
    "    os.environ['OPENAI_API_KEY'] = getpass.getpass('Enter your OpenAI API key:')\n"
   ]
  },
  {
   "cell_type": "markdown",
   "metadata": {},
   "source": [
    "We can also use variables in combination with if/else statements to make the behavior more dynamic"
   ]
  },
  {
   "cell_type": "code",
   "execution_count": 3,
   "metadata": {},
   "outputs": [],
   "source": [
    "from nemoguardrails import LLMRails, RailsConfig"
   ]
  },
  {
   "cell_type": "code",
   "execution_count": 4,
   "metadata": {},
   "outputs": [],
   "source": [
    "yaml_content = \"\"\"\n",
    "models:\n",
    "- type: main\n",
    "  engine: openai\n",
    "  model: text-davinci-003\n",
    "# - type: embeddings\n",
    "#   engine: openai\n",
    "#   model: text-embedding-ada-002\n",
    "\"\"\""
   ]
  },
  {
   "cell_type": "code",
   "execution_count": 5,
   "metadata": {},
   "outputs": [
    {
     "name": "stderr",
     "output_type": "stream",
     "text": [
      "/Users/jimmy.liao/.pyenv/versions/3.10.13/envs/guardrails/lib/python3.10/site-packages/tqdm/auto.py:21: TqdmWarning: IProgress not found. Please update jupyter and ipywidgets. See https://ipywidgets.readthedocs.io/en/stable/user_install.html\n",
      "  from .autonotebook import tqdm as notebook_tqdm\n"
     ]
    }
   ],
   "source": [
    "colang_content = \"\"\"\n",
    "define user express greeting\n",
    "    \"hello\"\n",
    "    \"hi\"\n",
    "\n",
    "define bot express greeting\n",
    "    \"Hello there!! Can I help you today?\"\n",
    "\n",
    "define bot personal greeting\n",
    "    \"Hello $username, nice to see you again!\"\n",
    "\n",
    "define flow hello\n",
    "    user express greeting\n",
    "    if $username\n",
    "      bot personal greeting\n",
    "    else\n",
    "        bot express greeting\n",
    "\n",
    "define flow\n",
    "    user ...\n",
    "    $answer = execute qa_chain(query=$last_user_message)\n",
    "    bot $answer\n",
    "\"\"\"\n",
    "\n",
    "config = RailsConfig.from_content(\n",
    "  \tyaml_content=yaml_content,\n",
    "    colang_content=colang_content\n",
    ")\n",
    "rails = LLMRails(config=config)"
   ]
  },
  {
   "cell_type": "code",
   "execution_count": 12,
   "metadata": {},
   "outputs": [
    {
     "ename": "ValueError",
     "evalue": "You must provide an embedding function to compute embeddings.https://docs.trychroma.com/embeddings",
     "output_type": "error",
     "traceback": [
      "\u001b[0;31m---------------------------------------------------------------------------\u001b[0m",
      "\u001b[0;31mValueError\u001b[0m                                Traceback (most recent call last)",
      "\u001b[1;32m/Users/jimmy.liao/workspace/jimmyliao/lab-guardrails/lab02.ipynb Cell 7\u001b[0m line \u001b[0;36m1\n\u001b[1;32m      <a href='vscode-notebook-cell:/Users/jimmy.liao/workspace/jimmyliao/lab-guardrails/lab02.ipynb#X15sZmlsZQ%3D%3D?line=4'>5</a>\u001b[0m \u001b[39mfrom\u001b[39;00m \u001b[39mlangchain\u001b[39;00m\u001b[39m.\u001b[39;00m\u001b[39mprompts\u001b[39;00m \u001b[39mimport\u001b[39;00m PromptTemplate\n\u001b[1;32m      <a href='vscode-notebook-cell:/Users/jimmy.liao/workspace/jimmyliao/lab-guardrails/lab02.ipynb#X15sZmlsZQ%3D%3D?line=6'>7</a>\u001b[0m \u001b[39m# vectorstore = Chroma.from_texts(texts=[\"CatBank's Furry Paws Credit Card offers 2% cashback on pet stores and 1% on all other purchases.\",\u001b[39;00m\n\u001b[1;32m      <a href='vscode-notebook-cell:/Users/jimmy.liao/workspace/jimmyliao/lab-guardrails/lab02.ipynb#X15sZmlsZQ%3D%3D?line=7'>8</a>\u001b[0m \u001b[39m#                                  \"Meow Loans at CatBank come with a competitive 5% APR, subject to your catnip credit score.\",\u001b[39;00m\n\u001b[1;32m      <a href='vscode-notebook-cell:/Users/jimmy.liao/workspace/jimmyliao/lab-guardrails/lab02.ipynb#X15sZmlsZQ%3D%3D?line=8'>9</a>\u001b[0m \u001b[39m#                                  \"Earn up to 4% interest with CatBank's Kitty Savers account, with a minimum deposit of $500.\",\u001b[39;00m\n\u001b[1;32m     <a href='vscode-notebook-cell:/Users/jimmy.liao/workspace/jimmyliao/lab-guardrails/lab02.ipynb#X15sZmlsZQ%3D%3D?line=9'>10</a>\u001b[0m \u001b[39m#                                  \"Invest in the Whisker Growth Fund with a minimum of $1,000 and enjoy purr-tential annual returns of 7%.\",\u001b[39;00m\n\u001b[1;32m     <a href='vscode-notebook-cell:/Users/jimmy.liao/workspace/jimmyliao/lab-guardrails/lab02.ipynb#X15sZmlsZQ%3D%3D?line=10'>11</a>\u001b[0m \u001b[39m#                                  \"Open a Feline Secure savings account with just $100; enjoy up to 3% interest with no monthly fees.\"],\u001b[39;00m\n\u001b[1;32m     <a href='vscode-notebook-cell:/Users/jimmy.liao/workspace/jimmyliao/lab-guardrails/lab02.ipynb#X15sZmlsZQ%3D%3D?line=11'>12</a>\u001b[0m \u001b[39m#                                 embedding=OpenAIEmbeddings())\u001b[39;00m\n\u001b[0;32m---> <a href='vscode-notebook-cell:/Users/jimmy.liao/workspace/jimmyliao/lab-guardrails/lab02.ipynb#X15sZmlsZQ%3D%3D?line=12'>13</a>\u001b[0m vectorstore \u001b[39m=\u001b[39m Chroma\u001b[39m.\u001b[39;49mfrom_texts(texts\u001b[39m=\u001b[39;49m[\u001b[39m\"\u001b[39;49m\u001b[39mCatBank\u001b[39;49m\u001b[39m'\u001b[39;49m\u001b[39ms Furry Paws Credit Card offers 2\u001b[39;49m\u001b[39m% c\u001b[39;49;00m\u001b[39mashback on pet stores and 1\u001b[39;49m\u001b[39m% o\u001b[39;49;00m\u001b[39mn all other purchases.\u001b[39;49m\u001b[39m\"\u001b[39;49m,\n\u001b[1;32m     <a href='vscode-notebook-cell:/Users/jimmy.liao/workspace/jimmyliao/lab-guardrails/lab02.ipynb#X15sZmlsZQ%3D%3D?line=13'>14</a>\u001b[0m                                  \u001b[39m\"\u001b[39;49m\u001b[39mMeow Loans at CatBank come with a competitive 5\u001b[39;49m\u001b[39m%\u001b[39;49m\u001b[39m APR, subject to your catnip credit score.\u001b[39;49m\u001b[39m\"\u001b[39;49m,\n\u001b[1;32m     <a href='vscode-notebook-cell:/Users/jimmy.liao/workspace/jimmyliao/lab-guardrails/lab02.ipynb#X15sZmlsZQ%3D%3D?line=14'>15</a>\u001b[0m                                  \u001b[39m\"\u001b[39;49m\u001b[39mEarn up to 4\u001b[39;49m\u001b[39m% i\u001b[39;49;00m\u001b[39mnterest with CatBank\u001b[39;49m\u001b[39m'\u001b[39;49m\u001b[39ms Kitty Savers account, with a minimum deposit of $500.\u001b[39;49m\u001b[39m\"\u001b[39;49m,\n\u001b[1;32m     <a href='vscode-notebook-cell:/Users/jimmy.liao/workspace/jimmyliao/lab-guardrails/lab02.ipynb#X15sZmlsZQ%3D%3D?line=15'>16</a>\u001b[0m                                  \u001b[39m\"\u001b[39;49m\u001b[39mInvest in the Whisker Growth Fund with a minimum of $1,000 and enjoy purr-tential annual returns of 7\u001b[39;49m\u001b[39m%\u001b[39;49m\u001b[39m.\u001b[39;49m\u001b[39m\"\u001b[39;49m,\n\u001b[1;32m     <a href='vscode-notebook-cell:/Users/jimmy.liao/workspace/jimmyliao/lab-guardrails/lab02.ipynb#X15sZmlsZQ%3D%3D?line=16'>17</a>\u001b[0m                                  \u001b[39m\"\u001b[39;49m\u001b[39mOpen a Feline Secure savings account with just $100; enjoy up to 3\u001b[39;49m\u001b[39m% i\u001b[39;49;00m\u001b[39mnterest with no monthly fees.\u001b[39;49m\u001b[39m\"\u001b[39;49m]\n\u001b[1;32m     <a href='vscode-notebook-cell:/Users/jimmy.liao/workspace/jimmyliao/lab-guardrails/lab02.ipynb#X15sZmlsZQ%3D%3D?line=17'>18</a>\u001b[0m                                 )\n\u001b[1;32m     <a href='vscode-notebook-cell:/Users/jimmy.liao/workspace/jimmyliao/lab-guardrails/lab02.ipynb#X15sZmlsZQ%3D%3D?line=19'>20</a>\u001b[0m retriever \u001b[39m=\u001b[39m vectorstore\u001b[39m.\u001b[39mas_retriever()\n\u001b[1;32m     <a href='vscode-notebook-cell:/Users/jimmy.liao/workspace/jimmyliao/lab-guardrails/lab02.ipynb#X15sZmlsZQ%3D%3D?line=20'>21</a>\u001b[0m prompt_template \u001b[39m=\u001b[39m \u001b[39m\"\"\"\u001b[39m\u001b[39mYou are a helpful bot for our Bank. Only answer if your have got content in \u001b[39m\u001b[39m\"\u001b[39m\u001b[39mContext\u001b[39m\u001b[39m\"\u001b[39m\u001b[39m.\u001b[39m\n\u001b[1;32m     <a href='vscode-notebook-cell:/Users/jimmy.liao/workspace/jimmyliao/lab-guardrails/lab02.ipynb#X15sZmlsZQ%3D%3D?line=21'>22</a>\u001b[0m \u001b[39mOtherwise tell the user in a friendly way that you do not know and can not help with that.\u001b[39m\n\u001b[1;32m     <a href='vscode-notebook-cell:/Users/jimmy.liao/workspace/jimmyliao/lab-guardrails/lab02.ipynb#X15sZmlsZQ%3D%3D?line=22'>23</a>\u001b[0m \n\u001b[0;32m   (...)\u001b[0m\n\u001b[1;32m     <a href='vscode-notebook-cell:/Users/jimmy.liao/workspace/jimmyliao/lab-guardrails/lab02.ipynb#X15sZmlsZQ%3D%3D?line=25'>26</a>\u001b[0m \u001b[39mQuestion: \u001b[39m\u001b[39m{question}\u001b[39;00m\n\u001b[1;32m     <a href='vscode-notebook-cell:/Users/jimmy.liao/workspace/jimmyliao/lab-guardrails/lab02.ipynb#X15sZmlsZQ%3D%3D?line=26'>27</a>\u001b[0m \u001b[39mAnswer here:\u001b[39m\u001b[39m\"\"\"\u001b[39m\n",
      "File \u001b[0;32m~/.pyenv/versions/3.10.13/envs/guardrails/lib/python3.10/site-packages/langchain/vectorstores/chroma.py:567\u001b[0m, in \u001b[0;36mChroma.from_texts\u001b[0;34m(cls, texts, embedding, metadatas, ids, collection_name, persist_directory, client_settings, client, collection_metadata, **kwargs)\u001b[0m\n\u001b[1;32m    539\u001b[0m \u001b[39m\u001b[39m\u001b[39m\"\"\"Create a Chroma vectorstore from a raw documents.\u001b[39;00m\n\u001b[1;32m    540\u001b[0m \n\u001b[1;32m    541\u001b[0m \u001b[39mIf a persist_directory is specified, the collection will be persisted there.\u001b[39;00m\n\u001b[0;32m   (...)\u001b[0m\n\u001b[1;32m    556\u001b[0m \u001b[39m    Chroma: Chroma vectorstore.\u001b[39;00m\n\u001b[1;32m    557\u001b[0m \u001b[39m\"\"\"\u001b[39;00m\n\u001b[1;32m    558\u001b[0m chroma_collection \u001b[39m=\u001b[39m \u001b[39mcls\u001b[39m(\n\u001b[1;32m    559\u001b[0m     collection_name\u001b[39m=\u001b[39mcollection_name,\n\u001b[1;32m    560\u001b[0m     embedding_function\u001b[39m=\u001b[39membedding,\n\u001b[0;32m   (...)\u001b[0m\n\u001b[1;32m    565\u001b[0m     \u001b[39m*\u001b[39m\u001b[39m*\u001b[39mkwargs,\n\u001b[1;32m    566\u001b[0m )\n\u001b[0;32m--> 567\u001b[0m chroma_collection\u001b[39m.\u001b[39;49madd_texts(texts\u001b[39m=\u001b[39;49mtexts, metadatas\u001b[39m=\u001b[39;49mmetadatas, ids\u001b[39m=\u001b[39;49mids)\n\u001b[1;32m    568\u001b[0m \u001b[39mreturn\u001b[39;00m chroma_collection\n",
      "File \u001b[0;32m~/.pyenv/versions/3.10.13/envs/guardrails/lib/python3.10/site-packages/langchain/vectorstores/chroma.py:226\u001b[0m, in \u001b[0;36mChroma.add_texts\u001b[0;34m(self, texts, metadatas, ids, **kwargs)\u001b[0m\n\u001b[1;32m    220\u001b[0m         \u001b[39mself\u001b[39m\u001b[39m.\u001b[39m_collection\u001b[39m.\u001b[39mupsert(\n\u001b[1;32m    221\u001b[0m             embeddings\u001b[39m=\u001b[39membeddings_without_metadatas,\n\u001b[1;32m    222\u001b[0m             documents\u001b[39m=\u001b[39mtexts_without_metadatas,\n\u001b[1;32m    223\u001b[0m             ids\u001b[39m=\u001b[39mids_without_metadatas,\n\u001b[1;32m    224\u001b[0m         )\n\u001b[1;32m    225\u001b[0m \u001b[39melse\u001b[39;00m:\n\u001b[0;32m--> 226\u001b[0m     \u001b[39mself\u001b[39;49m\u001b[39m.\u001b[39;49m_collection\u001b[39m.\u001b[39;49mupsert(\n\u001b[1;32m    227\u001b[0m         embeddings\u001b[39m=\u001b[39;49membeddings,\n\u001b[1;32m    228\u001b[0m         documents\u001b[39m=\u001b[39;49mtexts,\n\u001b[1;32m    229\u001b[0m         ids\u001b[39m=\u001b[39;49mids,\n\u001b[1;32m    230\u001b[0m     )\n\u001b[1;32m    231\u001b[0m \u001b[39mreturn\u001b[39;00m ids\n",
      "File \u001b[0;32m~/.pyenv/versions/3.10.13/envs/guardrails/lib/python3.10/site-packages/chromadb/api/models/Collection.py:455\u001b[0m, in \u001b[0;36mCollection.upsert\u001b[0;34m(self, ids, embeddings, metadatas, documents, images, uris)\u001b[0m\n\u001b[1;32m    453\u001b[0m \u001b[39mif\u001b[39;00m embeddings \u001b[39mis\u001b[39;00m \u001b[39mNone\u001b[39;00m:\n\u001b[1;32m    454\u001b[0m     \u001b[39mif\u001b[39;00m documents \u001b[39mis\u001b[39;00m \u001b[39mnot\u001b[39;00m \u001b[39mNone\u001b[39;00m:\n\u001b[0;32m--> 455\u001b[0m         embeddings \u001b[39m=\u001b[39m \u001b[39mself\u001b[39;49m\u001b[39m.\u001b[39;49m_embed(\u001b[39minput\u001b[39;49m\u001b[39m=\u001b[39;49mdocuments)\n\u001b[1;32m    456\u001b[0m     \u001b[39melse\u001b[39;00m:\n\u001b[1;32m    457\u001b[0m         embeddings \u001b[39m=\u001b[39m \u001b[39mself\u001b[39m\u001b[39m.\u001b[39m_embed(\u001b[39minput\u001b[39m\u001b[39m=\u001b[39mimages)\n",
      "File \u001b[0;32m~/.pyenv/versions/3.10.13/envs/guardrails/lib/python3.10/site-packages/chromadb/api/models/Collection.py:583\u001b[0m, in \u001b[0;36mCollection._embed\u001b[0;34m(self, input)\u001b[0m\n\u001b[1;32m    581\u001b[0m \u001b[39mdef\u001b[39;00m \u001b[39m_embed\u001b[39m(\u001b[39mself\u001b[39m, \u001b[39minput\u001b[39m: Any) \u001b[39m-\u001b[39m\u001b[39m>\u001b[39m Embeddings:\n\u001b[1;32m    582\u001b[0m     \u001b[39mif\u001b[39;00m \u001b[39mself\u001b[39m\u001b[39m.\u001b[39m_embedding_function \u001b[39mis\u001b[39;00m \u001b[39mNone\u001b[39;00m:\n\u001b[0;32m--> 583\u001b[0m         \u001b[39mraise\u001b[39;00m \u001b[39mValueError\u001b[39;00m(\n\u001b[1;32m    584\u001b[0m             \u001b[39m\"\u001b[39m\u001b[39mYou must provide an embedding function to compute embeddings.\u001b[39m\u001b[39m\"\u001b[39m\n\u001b[1;32m    585\u001b[0m             \u001b[39m\"\u001b[39m\u001b[39mhttps://docs.trychroma.com/embeddings\u001b[39m\u001b[39m\"\u001b[39m\n\u001b[1;32m    586\u001b[0m         )\n\u001b[1;32m    587\u001b[0m     \u001b[39mreturn\u001b[39;00m \u001b[39mself\u001b[39m\u001b[39m.\u001b[39m_embedding_function(\u001b[39minput\u001b[39m\u001b[39m=\u001b[39m\u001b[39minput\u001b[39m)\n",
      "\u001b[0;31mValueError\u001b[0m: You must provide an embedding function to compute embeddings.https://docs.trychroma.com/embeddings"
     ]
    }
   ],
   "source": [
    "from langchain.vectorstores import Chroma\n",
    "from langchain.embeddings import OpenAIEmbeddings\n",
    "from langchain.chat_models import ChatOpenAI\n",
    "from langchain.chains import RetrievalQA\n",
    "from langchain.prompts import PromptTemplate\n",
    "\n",
    "# vectorstore = Chroma.from_texts(texts=[\"CatBank's Furry Paws Credit Card offers 2% cashback on pet stores and 1% on all other purchases.\",\n",
    "#                                  \"Meow Loans at CatBank come with a competitive 5% APR, subject to your catnip credit score.\",\n",
    "#                                  \"Earn up to 4% interest with CatBank's Kitty Savers account, with a minimum deposit of $500.\",\n",
    "#                                  \"Invest in the Whisker Growth Fund with a minimum of $1,000 and enjoy purr-tential annual returns of 7%.\",\n",
    "#                                  \"Open a Feline Secure savings account with just $100; enjoy up to 3% interest with no monthly fees.\"],\n",
    "#                                 embedding=OpenAIEmbeddings())\n",
    "vectorstore = Chroma.from_texts(texts=[\"CatBank's Furry Paws Credit Card offers 2% cashback on pet stores and 1% on all other purchases.\",\n",
    "                                 \"Meow Loans at CatBank come with a competitive 5% APR, subject to your catnip credit score.\",\n",
    "                                 \"Earn up to 4% interest with CatBank's Kitty Savers account, with a minimum deposit of $500.\",\n",
    "                                 \"Invest in the Whisker Growth Fund with a minimum of $1,000 and enjoy purr-tential annual returns of 7%.\",\n",
    "                                 \"Open a Feline Secure savings account with just $100; enjoy up to 3% interest with no monthly fees.\"],\n",
    "                                embedding=OpenAIEmbeddings()\n",
    "                                )\n",
    "\n",
    "retriever = vectorstore.as_retriever()\n",
    "prompt_template = \"\"\"You are a helpful bot for our Bank. Only answer if your have got content in \"Context\".\n",
    "Otherwise tell the user in a friendly way that you do not know and can not help with that.\n",
    "\n",
    "Context: {context}\n",
    "\n",
    "Question: {question}\n",
    "Answer here:\"\"\"\n",
    "PROMPT = PromptTemplate(\n",
    "    template=prompt_template, input_variables=[\"context\", \"question\"]\n",
    ")\n",
    "\n",
    "chain_type_kwargs = {\"prompt\": PROMPT}\n",
    "\n",
    "qa = RetrievalQA.from_chain_type(\n",
    "    llm=rails.llm, # Use llm attached to rail instance\n",
    "    chain_type=\"stuff\",\n",
    "    retriever=retriever,\n",
    "    chain_type_kwargs=chain_type_kwargs,\n",
    ")"
   ]
  },
  {
   "cell_type": "code",
   "execution_count": null,
   "metadata": {},
   "outputs": [],
   "source": []
  }
 ],
 "metadata": {
  "kernelspec": {
   "display_name": "guardrails",
   "language": "python",
   "name": "python3"
  },
  "language_info": {
   "codemirror_mode": {
    "name": "ipython",
    "version": 3
   },
   "file_extension": ".py",
   "mimetype": "text/x-python",
   "name": "python",
   "nbconvert_exporter": "python",
   "pygments_lexer": "ipython3",
   "version": "3.10.13"
  }
 },
 "nbformat": 4,
 "nbformat_minor": 2
}
